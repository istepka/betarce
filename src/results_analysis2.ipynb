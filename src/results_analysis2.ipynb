{
 "cells": [
  {
   "cell_type": "code",
   "execution_count": 1,
   "metadata": {},
   "outputs": [
    {
     "name": "stdout",
     "output_type": "stream",
     "text": [
      "/home/ignacy/research/robust-cf/src\n"
     ]
    },
    {
     "name": "stderr",
     "output_type": "stream",
     "text": [
      "2024-02-29 19:51:09.479776: I tensorflow/core/util/port.cc:113] oneDNN custom operations are on. You may see slightly different numerical results due to floating-point round-off errors from different computation orders. To turn them off, set the environment variable `TF_ENABLE_ONEDNN_OPTS=0`.\n",
      "2024-02-29 19:51:09.507576: I tensorflow/core/platform/cpu_feature_guard.cc:182] This TensorFlow binary is optimized to use available CPU instructions in performance-critical operations.\n",
      "To enable the following instructions: SSE4.1 SSE4.2 AVX AVX2 AVX_VNNI FMA, in other operations, rebuild TensorFlow with the appropriate compiler flags.\n"
     ]
    },
    {
     "name": "stdout",
     "output_type": "stream",
     "text": [
      "/home/ignacy/research/robust-cf\n",
      "ExperimentResults with 18 metrics and 3 artifacts.\n",
      "############################## Metrics ##############################\n",
      "------------------------- Base metrics -------------------------\n",
      "validity: 1.00 (std: 0.00)\n",
      "proximityL1: 0.60 (std: 0.44)\n",
      "lof: -1.26 (std: 0.36)\n",
      "cf_counterfactual_stability: 0.03 (std: 0.12)\n",
      "generation_time: 0.01 (std: 0.01)\n",
      "------------------------- Base metrics 2 -------------------------\n",
      "validity_2: 0.19 (std: 0.39)\n",
      "proximityL1_2: 0.60 (std: 0.44)\n",
      "lof_2: -1.26 (std: 0.36)\n",
      "cf_counterfactual_stability_2: 0.44 (std: 0.22)\n",
      "------------------------- Robust metrics -------------------------\n",
      "robust_validity: nan (std: nan)\n",
      "robust_proximityL1: nan (std: nan)\n",
      "robust_lof: nan (std: nan)\n",
      "robust_cf_counterfactual_stability: nan (std: nan)\n",
      "robust_generation_time: 93.63 (std: 48.67)\n",
      "------------------------- Robust metrics 2 -------------------------\n",
      "robust_validity_2: nan (std: nan)\n",
      "robust_proximityL1_2: nan (std: nan)\n",
      "robust_lof_2: nan (std: nan)\n",
      "robust_cf_counterfactual_stability_2: nan (std: nan)\n",
      "################################################################################\n"
     ]
    }
   ],
   "source": [
    "import joblib \n",
    "import os\n",
    "import pandas as pd \n",
    "import numpy as np\n",
    "import seaborn as sns\n",
    "import matplotlib.pyplot as plt\n",
    "from experiments_helpers import ExperimentResults\n",
    "\n",
    "if 'src' in os.getcwd():\n",
    "    os.chdir('..')\n",
    "    print(os.getcwd())\n",
    "\n",
    "folder = 'results2'\n",
    "name = 'torch-fico-gs'\n",
    "\n",
    "idx = 0\n",
    "es_base: ExperimentResults = ExperimentResults.load_results_from_file(f'{folder}/{name}_{idx}.joblib')\n",
    "\n",
    "es_base.pretty_print_robust_vs_base()"
   ]
  },
  {
   "cell_type": "code",
   "execution_count": null,
   "metadata": {},
   "outputs": [],
   "source": []
  }
 ],
 "metadata": {
  "kernelspec": {
   "display_name": "robustcf",
   "language": "python",
   "name": "python3"
  },
  "language_info": {
   "codemirror_mode": {
    "name": "ipython",
    "version": 3
   },
   "file_extension": ".py",
   "mimetype": "text/x-python",
   "name": "python",
   "nbconvert_exporter": "python",
   "pygments_lexer": "ipython3",
   "version": "3.11.7"
  }
 },
 "nbformat": 4,
 "nbformat_minor": 2
}
