{
 "cells": [
  {
   "cell_type": "code",
   "execution_count": 3,
   "metadata": {},
   "outputs": [
    {
     "name": "stdout",
     "output_type": "stream",
     "text": [
      "ExperimentResults with 18 metrics and 3 artifacts.\n",
      "############################## Metrics ##############################\n",
      "------------------------- Base metrics -------------------------\n",
      "validity: 1.00 (std: 0.00)\n",
      "proximityL1: 0.63 (std: 0.48)\n",
      "lof: -1.27 (std: 0.40)\n",
      "cf_counterfactual_stability: 0.03 (std: 0.08)\n",
      "generation_time: 0.01 (std: 0.00)\n",
      "------------------------- Base metrics 2 -------------------------\n",
      "validity_2: 0.12 (std: 0.33)\n",
      "proximityL1_2: 0.63 (std: 0.48)\n",
      "lof_2: -1.27 (std: 0.40)\n",
      "cf_counterfactual_stability_2: 0.43 (std: 0.19)\n",
      "------------------------- Robust metrics -------------------------\n",
      "robust_validity: 1.00 (std: 0.00)\n",
      "robust_proximityL1: 2.73 (std: 1.80)\n",
      "robust_lof: -1.78 (std: 0.61)\n",
      "robust_cf_counterfactual_stability: 0.31 (std: 0.26)\n",
      "robust_generation_time: 64.37 (std: 75.48)\n",
      "------------------------- Robust metrics 2 -------------------------\n",
      "robust_validity_2: 0.50 (std: 0.50)\n",
      "robust_proximityL1_2: 2.73 (std: 1.80)\n",
      "robust_lof_2: -1.78 (std: 0.61)\n",
      "robust_cf_counterfactual_stability_2: 0.48 (std: 0.21)\n",
      "################################################################################\n"
     ]
    }
   ],
   "source": [
    "import joblib \n",
    "import os\n",
    "import pandas as pd \n",
    "import numpy as np\n",
    "import seaborn as sns\n",
    "import matplotlib.pyplot as plt\n",
    "from experiments_helpers import ExperimentResults\n",
    "\n",
    "if 'src' in os.getcwd():\n",
    "    os.chdir('..')\n",
    "    print(os.getcwd())\n",
    "\n",
    "folder = 'results_bench'\n",
    "name = 'torch-gs-mlp-b7'\n",
    "\n",
    "idx = 0\n",
    "es_base: ExperimentResults = ExperimentResults.load_results_from_file(f'{folder}/{name}_{idx}.joblib')\n",
    "\n",
    "es_base.pretty_print_robust_vs_base()"
   ]
  },
  {
   "cell_type": "code",
   "execution_count": null,
   "metadata": {},
   "outputs": [],
   "source": []
  }
 ],
 "metadata": {
  "kernelspec": {
   "display_name": "robustcf",
   "language": "python",
   "name": "python3"
  },
  "language_info": {
   "codemirror_mode": {
    "name": "ipython",
    "version": 3
   },
   "file_extension": ".py",
   "mimetype": "text/x-python",
   "name": "python",
   "nbconvert_exporter": "python",
   "pygments_lexer": "ipython3",
   "version": "3.11.7"
  }
 },
 "nbformat": 4,
 "nbformat_minor": 2
}
