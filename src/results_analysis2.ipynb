{
 "cells": [
  {
   "cell_type": "code",
   "execution_count": 3,
   "metadata": {},
   "outputs": [
    {
     "name": "stdout",
     "output_type": "stream",
     "text": [
      "ExperimentResults with 18 metrics and 3 artifacts.\n",
      "############################## Metrics ##############################\n",
      "------------------------- Base metrics -------------------------\n",
      "validity: 1.00 (std: 0.00)\n",
      "proximityL1: 0.29 (std: 0.15)\n",
      "lof: -1.19 (std: 0.15)\n",
      "cf_counterfactual_stability: -0.00 (std: 0.12)\n",
      "generation_time: 0.01 (std: 0.01)\n",
      "------------------------- Base metrics 2 -------------------------\n",
      "validity_2: 0.25 (std: 0.43)\n",
      "proximityL1_2: 0.29 (std: 0.15)\n",
      "lof_2: -1.19 (std: 0.15)\n",
      "cf_counterfactual_stability_2: 0.49 (std: 0.19)\n",
      "------------------------- Robust metrics -------------------------\n",
      "robust_validity: 1.00 (std: 0.00)\n",
      "robust_proximityL1: 3.06 (std: 2.23)\n",
      "robust_lof: -1.70 (std: 0.44)\n",
      "robust_cf_counterfactual_stability: 0.29 (std: 0.19)\n",
      "robust_generation_time: 22.86 (std: 15.82)\n",
      "------------------------- Robust metrics 2 -------------------------\n",
      "robust_validity_2: 0.75 (std: 0.43)\n",
      "robust_proximityL1_2: 3.06 (std: 2.23)\n",
      "robust_lof_2: -1.70 (std: 0.44)\n",
      "robust_cf_counterfactual_stability_2: 0.38 (std: 0.14)\n",
      "################################################################################\n"
     ]
    }
   ],
   "source": [
    "import joblib \n",
    "import os\n",
    "import pandas as pd \n",
    "import numpy as np\n",
    "import seaborn as sns\n",
    "import matplotlib.pyplot as plt\n",
    "from experiments_helpers import ExperimentResults\n",
    "\n",
    "if 'src' in os.getcwd():\n",
    "    os.chdir('..')\n",
    "    print(os.getcwd())\n",
    "\n",
    "folder = 'results2'\n",
    "name = 'torch-fico-gs'\n",
    "\n",
    "idx = 0\n",
    "es_base: ExperimentResults = ExperimentResults.load_results_from_file(f'{folder}/{name}_{idx}.joblib')\n",
    "\n",
    "es_base.pretty_print_robust_vs_base()"
   ]
  },
  {
   "cell_type": "code",
   "execution_count": null,
   "metadata": {},
   "outputs": [],
   "source": []
  }
 ],
 "metadata": {
  "kernelspec": {
   "display_name": "robustcf",
   "language": "python",
   "name": "python3"
  },
  "language_info": {
   "codemirror_mode": {
    "name": "ipython",
    "version": 3
   },
   "file_extension": ".py",
   "mimetype": "text/x-python",
   "name": "python",
   "nbconvert_exporter": "python",
   "pygments_lexer": "ipython3",
   "version": "3.11.7"
  }
 },
 "nbformat": 4,
 "nbformat_minor": 2
}
