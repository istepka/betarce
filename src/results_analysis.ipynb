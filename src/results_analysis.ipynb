{
 "cells": [
  {
   "cell_type": "code",
   "execution_count": 115,
   "metadata": {},
   "outputs": [
    {
     "name": "stdout",
     "output_type": "stream",
     "text": [
      "[0, 2, 3, 4]\n",
      "4\n"
     ]
    }
   ],
   "source": [
    "import joblib \n",
    "import os\n",
    "import pandas as pd \n",
    "import numpy as np\n",
    "import seaborn as sns\n",
    "import matplotlib.pyplot as plt\n",
    "from experiments_helpers import ExperimentResults\n",
    "\n",
    "if 'src' in os.getcwd():\n",
    "    os.chdir('..')\n",
    "    print(os.getcwd())\n",
    "\n",
    "omit_idx = [1]\n",
    "fold_indices = [0, 1, 2, 3, 4]\n",
    "\n",
    "for i in omit_idx:\n",
    "    fold_indices.remove(i)\n",
    "    \n",
    "print(fold_indices)\n",
    "\n",
    "N = len(fold_indices)\n",
    "print(N)\n",
    "\n",
    "res_base_list = []\n",
    "for fold in fold_indices:\n",
    "    res_base: ExperimentResults = ExperimentResults.load_results_from_file(f'results/mlp_base_{fold}.joblib')\n",
    "    res_base_list.append(res_base)\n",
    "\n",
    "res_calib_iso_list = []\n",
    "for fold in fold_indices:\n",
    "    res_calib_iso: ExperimentResults = ExperimentResults.load_results_from_file(f'results/mlp_isotonic-cv_{fold}.joblib')\n",
    "    res_calib_iso_list.append(res_calib_iso)\n",
    "    \n",
    "res_calib_sig_list = []\n",
    "for fold in fold_indices:\n",
    "    res_calib_sig: ExperimentResults = ExperimentResults.load_results_from_file(f'results/mlp_sigmoid-cv_{fold}.joblib')\n",
    "    res_calib_sig_list.append(res_calib_sig)"
   ]
  },
  {
   "cell_type": "code",
   "execution_count": 116,
   "metadata": {},
   "outputs": [
    {
     "name": "stdout",
     "output_type": "stream",
     "text": [
      "Fold 0\n",
      "Base: (array([False,  True]), array([77, 24]))\n",
      "Isotonic: (array([ 0.,  1., nan]), array([82, 14,  5]))\n",
      "Sigmoid: (array([ 0.,  1., nan]), array([14, 25, 62]))\n",
      "Fold 1\n",
      "Base: (array([False,  True]), array([63, 39]))\n",
      "Isotonic: (array([ 0.,  1., nan]), array([41, 60,  1]))\n",
      "Sigmoid: (array([ 0.,  1., nan]), array([41, 57,  4]))\n",
      "Fold 2\n",
      "Base: (array([False,  True]), array([72, 32]))\n",
      "Isotonic: (array([False,  True]), array([74, 30]))\n",
      "Sigmoid: (array([ 0.,  1., nan]), array([77, 24,  3]))\n",
      "Fold 3\n",
      "Base: (array([ 0., nan]), array([83, 15]))\n",
      "Isotonic: (array([False,  True]), array([89,  9]))\n",
      "Sigmoid: (array([False,  True]), array([93,  5]))\n"
     ]
    }
   ],
   "source": [
    "# Check unique counts for each fold\n",
    "for i in range(N):\n",
    "    print(f'Fold {i}')\n",
    "    print(f'Base: {np.unique(res_base_list[i].get_results_for_metric(\"validity_2\"), return_counts=True)}')\n",
    "    print(f'Isotonic: {np.unique(res_calib_iso_list[i].get_results_for_metric(\"validity_2\"), return_counts=True)}')\n",
    "    print(f'Sigmoid: {np.unique(res_calib_sig_list[i].get_results_for_metric(\"validity_2\"), return_counts=True)}')"
   ]
  },
  {
   "cell_type": "code",
   "execution_count": 117,
   "metadata": {},
   "outputs": [
    {
     "data": {
      "text/html": [
       "<div>\n",
       "<style scoped>\n",
       "    .dataframe tbody tr th:only-of-type {\n",
       "        vertical-align: middle;\n",
       "    }\n",
       "\n",
       "    .dataframe tbody tr th {\n",
       "        vertical-align: top;\n",
       "    }\n",
       "\n",
       "    .dataframe thead th {\n",
       "        text-align: right;\n",
       "    }\n",
       "</style>\n",
       "<table border=\"1\" class=\"dataframe\">\n",
       "  <thead>\n",
       "    <tr style=\"text-align: right;\">\n",
       "      <th></th>\n",
       "      <th>validity</th>\n",
       "      <th>validity_2</th>\n",
       "      <th>cf_counterfactual_stability</th>\n",
       "      <th>cf_counterfactual_stability_2</th>\n",
       "    </tr>\n",
       "  </thead>\n",
       "  <tbody>\n",
       "    <tr>\n",
       "      <th>Base</th>\n",
       "      <td>1.0</td>\n",
       "      <td>0.24359</td>\n",
       "      <td>0.457762</td>\n",
       "      <td>0.617155</td>\n",
       "    </tr>\n",
       "    <tr>\n",
       "      <th>Isotonic</th>\n",
       "      <td>1.0</td>\n",
       "      <td>0.283208</td>\n",
       "      <td>0.447096</td>\n",
       "      <td>0.607564</td>\n",
       "    </tr>\n",
       "    <tr>\n",
       "      <th>Sigmoid</th>\n",
       "      <td>1.0</td>\n",
       "      <td>0.330357</td>\n",
       "      <td>0.474963</td>\n",
       "      <td>0.607388</td>\n",
       "    </tr>\n",
       "  </tbody>\n",
       "</table>\n",
       "</div>"
      ],
      "text/plain": [
       "         validity validity_2 cf_counterfactual_stability  \\\n",
       "Base          1.0    0.24359                    0.457762   \n",
       "Isotonic      1.0   0.283208                    0.447096   \n",
       "Sigmoid       1.0   0.330357                    0.474963   \n",
       "\n",
       "         cf_counterfactual_stability_2  \n",
       "Base                          0.617155  \n",
       "Isotonic                      0.607564  \n",
       "Sigmoid                       0.607388  "
      ]
     },
     "execution_count": 117,
     "metadata": {},
     "output_type": "execute_result"
    }
   ],
   "source": [
    "def average_results(results_list: list,  name: str) -> pd.DataFrame:\n",
    "    to_average = ['validity', 'validity_2', 'cf_counterfactual_stability', 'cf_counterfactual_stability_2']\n",
    "    avg = pd.DataFrame(index=[name], columns=to_average)\n",
    "    std = pd.DataFrame(index=[name], columns=to_average)\n",
    "    \n",
    "    for metric in to_average:\n",
    "        clean = []\n",
    "        for res in results_list:\n",
    "            clean += res.get_results_for_metric(metric)\n",
    "        clean = np.array(list(filter(lambda x: str(x) != 'nan', clean)), dtype=np.float32)\n",
    "        \n",
    "        avg.at[name, metric] = np.mean(clean)\n",
    "        std.at[name, metric] = np.std(clean)\n",
    "        \n",
    "    return avg, std\n",
    "    \n",
    "\n",
    "avg_base, std_base = average_results(res_base_list, 'Base')\n",
    "avg_iso, std_iso = average_results(res_calib_iso_list, 'Isotonic')\n",
    "avg_sig, std_sig = average_results(res_calib_sig_list, 'Sigmoid')\n",
    "\n",
    "avgs = pd.concat([avg_base, avg_iso, avg_sig])\n",
    "stds = pd.concat([std_base, std_iso, std_sig])\n",
    "\n",
    "avgs"
   ]
  },
  {
   "cell_type": "code",
   "execution_count": 118,
   "metadata": {},
   "outputs": [
    {
     "data": {
      "text/html": [
       "<div>\n",
       "<style scoped>\n",
       "    .dataframe tbody tr th:only-of-type {\n",
       "        vertical-align: middle;\n",
       "    }\n",
       "\n",
       "    .dataframe tbody tr th {\n",
       "        vertical-align: top;\n",
       "    }\n",
       "\n",
       "    .dataframe thead th {\n",
       "        text-align: right;\n",
       "    }\n",
       "</style>\n",
       "<table border=\"1\" class=\"dataframe\">\n",
       "  <thead>\n",
       "    <tr style=\"text-align: right;\">\n",
       "      <th></th>\n",
       "      <th>validity</th>\n",
       "      <th>validity_2</th>\n",
       "      <th>cf_counterfactual_stability</th>\n",
       "      <th>cf_counterfactual_stability_2</th>\n",
       "    </tr>\n",
       "  </thead>\n",
       "  <tbody>\n",
       "    <tr>\n",
       "      <th>Base</th>\n",
       "      <td>0.0</td>\n",
       "      <td>0.429248</td>\n",
       "      <td>0.070476</td>\n",
       "      <td>0.104552</td>\n",
       "    </tr>\n",
       "    <tr>\n",
       "      <th>Isotonic</th>\n",
       "      <td>0.0</td>\n",
       "      <td>0.450557</td>\n",
       "      <td>0.048115</td>\n",
       "      <td>0.091725</td>\n",
       "    </tr>\n",
       "    <tr>\n",
       "      <th>Sigmoid</th>\n",
       "      <td>0.0</td>\n",
       "      <td>0.470342</td>\n",
       "      <td>0.030989</td>\n",
       "      <td>0.092348</td>\n",
       "    </tr>\n",
       "  </tbody>\n",
       "</table>\n",
       "</div>"
      ],
      "text/plain": [
       "         validity validity_2 cf_counterfactual_stability  \\\n",
       "Base          0.0   0.429248                    0.070476   \n",
       "Isotonic      0.0   0.450557                    0.048115   \n",
       "Sigmoid       0.0   0.470342                    0.030989   \n",
       "\n",
       "         cf_counterfactual_stability_2  \n",
       "Base                          0.104552  \n",
       "Isotonic                      0.091725  \n",
       "Sigmoid                       0.092348  "
      ]
     },
     "execution_count": 118,
     "metadata": {},
     "output_type": "execute_result"
    }
   ],
   "source": [
    "stds"
   ]
  },
  {
   "cell_type": "code",
   "execution_count": 119,
   "metadata": {},
   "outputs": [
    {
     "name": "stdout",
     "output_type": "stream",
     "text": [
      "Averages for each fold\n",
      "Base [0.23762377, 0.38235295, 0.30769232, 0.0]\n",
      "Isotonic [0.14583333, 0.5940594, 0.28846154, 0.091836736]\n",
      "Sigmoid [0.64102566, 0.5816327, 0.23762377, 0.05102041]\n",
      "Standard deviations for each fold\n"
     ]
    }
   ],
   "source": [
    "def get_averages_for_each_fold(results_list: list) -> pd.DataFrame:\n",
    "    to_average = ['validity', 'validity_2', 'cf_counterfactual_stability', 'cf_counterfactual_stability_2']\n",
    "    avg = pd.DataFrame(index=range(N), columns=to_average)\n",
    "    std = pd.DataFrame(index=range(N), columns=to_average)\n",
    "    \n",
    "    for i in range(N):\n",
    "        for metric in to_average:\n",
    "            clean = results_list[i].get_results_for_metric(metric)\n",
    "            clean = np.array(list(filter(lambda x: str(x) != 'nan', clean)), dtype=np.float32)\n",
    "            \n",
    "            if len(clean) == 0:\n",
    "                avg.at[i, metric] = np.nan\n",
    "                std.at[i, metric] = np.nan\n",
    "            avg.at[i, metric] = np.mean(clean)\n",
    "            std.at[i, metric] = np.std(clean)\n",
    "            \n",
    "    return avg, std\n",
    "\n",
    "avg_base_fold, std_base_fold = get_averages_for_each_fold(res_base_list)\n",
    "avg_iso_fold, std_iso_fold = get_averages_for_each_fold(res_calib_iso_list)\n",
    "avg_sig_fold, std_sig_fold = get_averages_for_each_fold(res_calib_sig_list)\n",
    "\n",
    "print(f'Averages for each fold')\n",
    "print(f'Base {avg_base_fold[\"validity_2\"].to_list()}')\n",
    "print(f'Isotonic {avg_iso_fold[\"validity_2\"].to_list()}')\n",
    "print(f'Sigmoid {avg_sig_fold[\"validity_2\"].to_list()}')\n",
    "\n",
    "print(f'Standard deviations for each fold')\n"
   ]
  },
  {
   "cell_type": "code",
   "execution_count": 122,
   "metadata": {},
   "outputs": [
    {
     "name": "stdout",
     "output_type": "stream",
     "text": [
      "iso > base: (0.34444738815077836, 0.3711308642293241)\n",
      "sig > base: (0.8942565960495553, 0.2028125370690714)\n"
     ]
    }
   ],
   "source": [
    "from scipy.stats import ttest_ind\n",
    "\n",
    "def t_student_unpaired(scores1, scores2, hypothesis='greater'):\n",
    "    \n",
    "    t_stat, p_value = ttest_ind(scores1, scores2)\n",
    "    \n",
    "    if hypothesis == 'greater':\n",
    "        p_value = p_value / 2\n",
    "    return t_stat, p_value\n",
    "\n",
    "scores_base = avg_base_fold.loc[:, 'validity_2'].to_list()\n",
    "scores_sig = avg_sig_fold.loc[:, 'validity_2'].to_list()\n",
    "scores_iso = avg_iso_fold.loc[:, 'validity_2'].to_list()\n",
    "\n",
    "print(f'iso > base: {t_student_unpaired(scores_iso, scores_base)}')\n",
    "print(f'sig > base: {t_student_unpaired(scores_sig, scores_base)}')"
   ]
  },
  {
   "cell_type": "code",
   "execution_count": null,
   "metadata": {},
   "outputs": [],
   "source": []
  },
  {
   "cell_type": "code",
   "execution_count": null,
   "metadata": {},
   "outputs": [],
   "source": []
  }
 ],
 "metadata": {
  "kernelspec": {
   "display_name": "robustcf",
   "language": "python",
   "name": "python3"
  },
  "language_info": {
   "codemirror_mode": {
    "name": "ipython",
    "version": 3
   },
   "file_extension": ".py",
   "mimetype": "text/x-python",
   "name": "python",
   "nbconvert_exporter": "python",
   "pygments_lexer": "ipython3",
   "version": "3.11.7"
  }
 },
 "nbformat": 4,
 "nbformat_minor": 2
}
