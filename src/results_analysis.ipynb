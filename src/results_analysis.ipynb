{
 "cells": [
  {
   "cell_type": "code",
   "execution_count": 2,
   "metadata": {},
   "outputs": [
    {
     "name": "stdout",
     "output_type": "stream",
     "text": [
      "[0, 1, 2, 3, 4, 5, 6, 7, 8]\n",
      "9\n"
     ]
    }
   ],
   "source": [
    "import joblib \n",
    "import os\n",
    "import pandas as pd \n",
    "import numpy as np\n",
    "import seaborn as sns\n",
    "import matplotlib.pyplot as plt\n",
    "from experiments_helpers import ExperimentResults\n",
    "\n",
    "if 'src' in os.getcwd():\n",
    "    os.chdir('..')\n",
    "    print(os.getcwd())\n",
    "\n",
    "omit_idx = []\n",
    "fold_indices = [0]\n",
    "folder = 'results2'\n",
    "name = 'torch-fico-gs_'\n",
    "\n",
    "\n",
    "for i in omit_idx:\n",
    "    fold_indices.remove(i)\n",
    "    \n",
    "print(fold_indices)\n",
    "\n",
    "N = len(fold_indices)\n",
    "print(N)\n",
    "\n",
    "res_base_list = []\n",
    "for fold in fold_indices:\n",
    "    res_base: ExperimentResults = ExperimentResults.load_results_from_file(f'results2/mlp_base_{fold}.joblib')\n",
    "    res_base_list.append(res_base)\n",
    "\n",
    "res_calib_iso_list = []\n",
    "for fold in fold_indices:\n",
    "    res_calib_iso: ExperimentResults = ExperimentResults.load_results_from_file(f'results2/mlp_isotonic-cv_{fold}.joblib')\n",
    "    res_calib_iso_list.append(res_calib_iso)\n",
    "    \n",
    "res_calib_sig_list = []\n",
    "for fold in fold_indices:\n",
    "    res_calib_sig: ExperimentResults = ExperimentResults.load_results_from_file(f'results2/mlp_sigmoid-cv_{fold}.joblib')\n",
    "    res_calib_sig_list.append(res_calib_sig)"
   ]
  },
  {
   "cell_type": "code",
   "execution_count": 3,
   "metadata": {},
   "outputs": [
    {
     "name": "stdout",
     "output_type": "stream",
     "text": [
      "Fold 0\n",
      "Base: (array([False,  True]), array([54, 22]))\n",
      "Isotonic: (array([False,  True]), array([51, 25]))\n",
      "Sigmoid: (array([False,  True]), array([52, 24]))\n",
      "Fold 1\n",
      "Base: (array([False,  True]), array([17, 53]))\n",
      "Isotonic: (array([False,  True]), array([28, 42]))\n",
      "Sigmoid: (array([False,  True]), array([28, 42]))\n",
      "Fold 2\n",
      "Base: (array([False,  True]), array([37, 38]))\n",
      "Isotonic: (array([False,  True]), array([38, 37]))\n",
      "Sigmoid: (array([False,  True]), array([19, 56]))\n",
      "Fold 3\n",
      "Base: (array([False,  True]), array([50, 28]))\n",
      "Isotonic: (array([False,  True]), array([55, 23]))\n",
      "Sigmoid: (array([False,  True]), array([54, 24]))\n",
      "Fold 4\n",
      "Base: (array([False,  True]), array([48, 27]))\n",
      "Isotonic: (array([False,  True]), array([37, 38]))\n",
      "Sigmoid: (array([ 0.,  1., nan]), array([30, 44,  1]))\n",
      "Fold 5\n",
      "Base: (array([False,  True]), array([37, 35]))\n",
      "Isotonic: (array([False,  True]), array([33, 39]))\n",
      "Sigmoid: (array([False,  True]), array([35, 37]))\n",
      "Fold 6\n",
      "Base: (array([False,  True]), array([38, 38]))\n",
      "Isotonic: (array([False,  True]), array([29, 47]))\n",
      "Sigmoid: (array([ 0.,  1., nan]), array([26, 47,  3]))\n",
      "Fold 7\n",
      "Base: (array([False,  True]), array([40, 36]))\n",
      "Isotonic: (array([False,  True]), array([41, 35]))\n",
      "Sigmoid: (array([False,  True]), array([42, 34]))\n",
      "Fold 8\n",
      "Base: (array([False,  True]), array([55, 21]))\n",
      "Isotonic: (array([False,  True]), array([49, 27]))\n",
      "Sigmoid: (array([False,  True]), array([47, 29]))\n"
     ]
    }
   ],
   "source": [
    "# Check unique counts for each fold\n",
    "for i in range(N):\n",
    "    print(f'Fold {i}')\n",
    "    print(f'Base: {np.unique(res_base_list[i].get_results_for_metric(\"validity_2\"), return_counts=True)}')\n",
    "    print(f'Isotonic: {np.unique(res_calib_iso_list[i].get_results_for_metric(\"validity_2\"), return_counts=True)}')\n",
    "    print(f'Sigmoid: {np.unique(res_calib_sig_list[i].get_results_for_metric(\"validity_2\"), return_counts=True)}')"
   ]
  },
  {
   "cell_type": "code",
   "execution_count": 4,
   "metadata": {},
   "outputs": [
    {
     "data": {
      "text/html": [
       "<div>\n",
       "<style scoped>\n",
       "    .dataframe tbody tr th:only-of-type {\n",
       "        vertical-align: middle;\n",
       "    }\n",
       "\n",
       "    .dataframe tbody tr th {\n",
       "        vertical-align: top;\n",
       "    }\n",
       "\n",
       "    .dataframe thead th {\n",
       "        text-align: right;\n",
       "    }\n",
       "</style>\n",
       "<table border=\"1\" class=\"dataframe\">\n",
       "  <thead>\n",
       "    <tr style=\"text-align: right;\">\n",
       "      <th></th>\n",
       "      <th>validity</th>\n",
       "      <th>validity_2</th>\n",
       "      <th>cf_counterfactual_stability</th>\n",
       "      <th>cf_counterfactual_stability_2</th>\n",
       "    </tr>\n",
       "  </thead>\n",
       "  <tbody>\n",
       "    <tr>\n",
       "      <th>Base</th>\n",
       "      <td>1.0</td>\n",
       "      <td>0.442136</td>\n",
       "      <td>0.449393</td>\n",
       "      <td>0.660532</td>\n",
       "    </tr>\n",
       "    <tr>\n",
       "      <th>Isotonic</th>\n",
       "      <td>1.0</td>\n",
       "      <td>0.464392</td>\n",
       "      <td>0.449713</td>\n",
       "      <td>0.64374</td>\n",
       "    </tr>\n",
       "    <tr>\n",
       "      <th>Sigmoid</th>\n",
       "      <td>1.0</td>\n",
       "      <td>0.502985</td>\n",
       "      <td>0.469781</td>\n",
       "      <td>0.630857</td>\n",
       "    </tr>\n",
       "  </tbody>\n",
       "</table>\n",
       "</div>"
      ],
      "text/plain": [
       "         validity validity_2 cf_counterfactual_stability  \\\n",
       "Base          1.0   0.442136                    0.449393   \n",
       "Isotonic      1.0   0.464392                    0.449713   \n",
       "Sigmoid       1.0   0.502985                    0.469781   \n",
       "\n",
       "         cf_counterfactual_stability_2  \n",
       "Base                          0.660532  \n",
       "Isotonic                       0.64374  \n",
       "Sigmoid                       0.630857  "
      ]
     },
     "execution_count": 4,
     "metadata": {},
     "output_type": "execute_result"
    }
   ],
   "source": [
    "def average_results(results_list: list,  name: str) -> pd.DataFrame:\n",
    "    to_average = ['validity', 'validity_2', 'cf_counterfactual_stability', 'cf_counterfactual_stability_2']\n",
    "    avg = pd.DataFrame(index=[name], columns=to_average)\n",
    "    std = pd.DataFrame(index=[name], columns=to_average)\n",
    "    \n",
    "    for metric in to_average:\n",
    "        clean = []\n",
    "        for res in results_list:\n",
    "            clean += res.get_results_for_metric(metric)\n",
    "        clean = np.array(list(filter(lambda x: str(x) != 'nan', clean)), dtype=np.float32)\n",
    "        \n",
    "        avg.at[name, metric] = np.mean(clean)\n",
    "        std.at[name, metric] = np.std(clean)\n",
    "        \n",
    "    return avg, std\n",
    "    \n",
    "\n",
    "avg_base, std_base = average_results(res_base_list, 'Base')\n",
    "avg_iso, std_iso = average_results(res_calib_iso_list, 'Isotonic')\n",
    "avg_sig, std_sig = average_results(res_calib_sig_list, 'Sigmoid')\n",
    "\n",
    "avgs = pd.concat([avg_base, avg_iso, avg_sig])\n",
    "stds = pd.concat([std_base, std_iso, std_sig])\n",
    "\n",
    "avgs"
   ]
  },
  {
   "cell_type": "code",
   "execution_count": 5,
   "metadata": {},
   "outputs": [
    {
     "data": {
      "text/html": [
       "<div>\n",
       "<style scoped>\n",
       "    .dataframe tbody tr th:only-of-type {\n",
       "        vertical-align: middle;\n",
       "    }\n",
       "\n",
       "    .dataframe tbody tr th {\n",
       "        vertical-align: top;\n",
       "    }\n",
       "\n",
       "    .dataframe thead th {\n",
       "        text-align: right;\n",
       "    }\n",
       "</style>\n",
       "<table border=\"1\" class=\"dataframe\">\n",
       "  <thead>\n",
       "    <tr style=\"text-align: right;\">\n",
       "      <th></th>\n",
       "      <th>validity</th>\n",
       "      <th>validity_2</th>\n",
       "      <th>cf_counterfactual_stability</th>\n",
       "      <th>cf_counterfactual_stability_2</th>\n",
       "    </tr>\n",
       "  </thead>\n",
       "  <tbody>\n",
       "    <tr>\n",
       "      <th>Base</th>\n",
       "      <td>0.0</td>\n",
       "      <td>0.49664</td>\n",
       "      <td>0.090636</td>\n",
       "      <td>0.177602</td>\n",
       "    </tr>\n",
       "    <tr>\n",
       "      <th>Isotonic</th>\n",
       "      <td>0.0</td>\n",
       "      <td>0.49873</td>\n",
       "      <td>0.060041</td>\n",
       "      <td>0.181744</td>\n",
       "    </tr>\n",
       "    <tr>\n",
       "      <th>Sigmoid</th>\n",
       "      <td>0.0</td>\n",
       "      <td>0.499991</td>\n",
       "      <td>0.044074</td>\n",
       "      <td>0.168609</td>\n",
       "    </tr>\n",
       "  </tbody>\n",
       "</table>\n",
       "</div>"
      ],
      "text/plain": [
       "         validity validity_2 cf_counterfactual_stability  \\\n",
       "Base          0.0    0.49664                    0.090636   \n",
       "Isotonic      0.0    0.49873                    0.060041   \n",
       "Sigmoid       0.0   0.499991                    0.044074   \n",
       "\n",
       "         cf_counterfactual_stability_2  \n",
       "Base                          0.177602  \n",
       "Isotonic                      0.181744  \n",
       "Sigmoid                       0.168609  "
      ]
     },
     "execution_count": 5,
     "metadata": {},
     "output_type": "execute_result"
    }
   ],
   "source": [
    "stds"
   ]
  },
  {
   "cell_type": "code",
   "execution_count": 6,
   "metadata": {},
   "outputs": [
    {
     "name": "stdout",
     "output_type": "stream",
     "text": [
      "Averages for each fold\n",
      "Base [0.28947368, 0.75714284, 0.50666666, 0.35897437, 0.36, 0.4861111, 0.5, 0.47368422, 0.27631578]\n",
      "Isotonic [0.32894737, 0.6, 0.49333334, 0.2948718, 0.50666666, 0.5416667, 0.6184211, 0.46052632, 0.35526314]\n",
      "Sigmoid [0.31578946, 0.6, 0.74666667, 0.30769232, 0.5945946, 0.5138889, 0.6438356, 0.4473684, 0.38157895]\n",
      "Standard deviations for each fold\n"
     ]
    }
   ],
   "source": [
    "def get_averages_for_each_fold(results_list: list) -> pd.DataFrame:\n",
    "    to_average = ['validity', 'validity_2', 'cf_counterfactual_stability', 'cf_counterfactual_stability_2']\n",
    "    avg = pd.DataFrame(index=range(N), columns=to_average)\n",
    "    std = pd.DataFrame(index=range(N), columns=to_average)\n",
    "    \n",
    "    for i in range(N):\n",
    "        for metric in to_average:\n",
    "            clean = results_list[i].get_results_for_metric(metric)\n",
    "            clean = np.array(list(filter(lambda x: str(x) != 'nan', clean)), dtype=np.float32)\n",
    "            \n",
    "            if len(clean) == 0:\n",
    "                avg.at[i, metric] = np.nan\n",
    "                std.at[i, metric] = np.nan\n",
    "            avg.at[i, metric] = np.mean(clean)\n",
    "            std.at[i, metric] = np.std(clean)\n",
    "            \n",
    "    return avg, std\n",
    "\n",
    "avg_base_fold, std_base_fold = get_averages_for_each_fold(res_base_list)\n",
    "avg_iso_fold, std_iso_fold = get_averages_for_each_fold(res_calib_iso_list)\n",
    "avg_sig_fold, std_sig_fold = get_averages_for_each_fold(res_calib_sig_list)\n",
    "\n",
    "print(f'Averages for each fold')\n",
    "print(f'Base {avg_base_fold[\"validity_2\"].to_list()}')\n",
    "print(f'Isotonic {avg_iso_fold[\"validity_2\"].to_list()}')\n",
    "print(f'Sigmoid {avg_sig_fold[\"validity_2\"].to_list()}')\n",
    "\n",
    "print(f'Standard deviations for each fold')\n"
   ]
  },
  {
   "cell_type": "code",
   "execution_count": 7,
   "metadata": {},
   "outputs": [
    {
     "name": "stdout",
     "output_type": "stream",
     "text": [
      "iso > base: (0.33865950037263237, 0.3696349076878197)\n",
      "sig > base: (0.8508007964562788, 0.2037164720357379)\n"
     ]
    }
   ],
   "source": [
    "from scipy.stats import ttest_ind\n",
    "\n",
    "def t_student_unpaired(scores1, scores2, hypothesis='greater'):\n",
    "    \n",
    "    t_stat, p_value = ttest_ind(scores1, scores2)\n",
    "    \n",
    "    if hypothesis == 'greater':\n",
    "        p_value = p_value / 2\n",
    "    return t_stat, p_value\n",
    "\n",
    "scores_base = avg_base_fold.loc[:, 'validity_2'].to_list()\n",
    "scores_sig = avg_sig_fold.loc[:, 'validity_2'].to_list()\n",
    "scores_iso = avg_iso_fold.loc[:, 'validity_2'].to_list()\n",
    "\n",
    "print(f'iso > base: {t_student_unpaired(scores_iso, scores_base)}')\n",
    "print(f'sig > base: {t_student_unpaired(scores_sig, scores_base)}')"
   ]
  },
  {
   "cell_type": "code",
   "execution_count": null,
   "metadata": {},
   "outputs": [],
   "source": []
  },
  {
   "cell_type": "code",
   "execution_count": null,
   "metadata": {},
   "outputs": [],
   "source": []
  }
 ],
 "metadata": {
  "kernelspec": {
   "display_name": "robustcf",
   "language": "python",
   "name": "python3"
  },
  "language_info": {
   "codemirror_mode": {
    "name": "ipython",
    "version": 3
   },
   "file_extension": ".py",
   "mimetype": "text/x-python",
   "name": "python",
   "nbconvert_exporter": "python",
   "pygments_lexer": "ipython3",
   "version": "3.11.7"
  }
 },
 "nbformat": 4,
 "nbformat_minor": 2
}
